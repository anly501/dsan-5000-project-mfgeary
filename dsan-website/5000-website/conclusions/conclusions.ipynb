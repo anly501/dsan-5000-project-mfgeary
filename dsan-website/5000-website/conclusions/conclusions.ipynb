{
  "cells": [
    {
      "cell_type": "markdown",
      "metadata": {},
      "source": [
        "---\n",
        "title: Conclusions\n",
        "bibliography: ../citations.bib\n",
        "---"
      ]
    },
    {
      "cell_type": "markdown",
      "metadata": {},
      "source": [
        "# Overview\n",
        "\n",
        "Throughout our analysis, we have explored the relationship between cannabis usage and psychosis. Our goal has been to determine in this research 1) whether there is a relationship between cannabis usage and psychosis, and 2) whether the public is aware of this link.\n",
        "\n",
        "In this research, we have found some evidence to suggest a link between cannabis usage and psychosis. We have also found that the public does not seem to be aware of this connect.\n",
        "\n",
        "# Methods\n",
        "\n",
        "## Data Collection\n",
        "\n",
        "First, we gathered data relating to cannabis usage and psychosis. In gathering data, it became evident that the connection between psychosis and cannabis usage is hard to research because it requires sensitive medical data. Data regarding a person's cannabis usage is hard to gather because it is self-reported, and individuals often do not want to report their usage of an illegal substance. Data regarding psychosis is also difficult to obtain because it is sensitive medical information.\n",
        "\n",
        "We were able to find data regarding cannabis usage and psychosis in the form of a survey conducted by the Substance Abuse and Mental Health Services Administration (SAMHSA) [@nsduh]. Each year, they conduct the National Survey on Drug Use and Health. We utilized the 2021 version of this survey which provides extensive information on almost 60,000 individuals and their drug use. It also contains some information on their mental health. We used this data to determine whether there is a relationship between cannabis usage and psychosis.\n",
        "\n",
        "We also utilized a data set curated by Setién-Suero et al. [@Setién-Suero2017]. This data set aimed to study the difference in men and women regarding the relationship between cannabis and psychosis. This data contains strong information on about 600 individuals regarding their cannabis usage and psychosis.\n",
        "\n",
        "Next, we gathered data from Reddit and Wikipedia. On Reddit, we gathered data from the subreddits r/weed, r/schizophrenia, and r/Psychosis. We gathered data from these subreddits to determine whether the public is aware of the link between cannabis usage and psychosis. From Wikipedia, we gathered all the pages that link to the page on the [long term effects of cannabis](https://en.wikipedia.org/wiki/Long-term_effects_of_cannabis#:~:text=Important%20predisposing%20factors%20were%20genetic,and%20increased%20risks%20of%20psychosis.), which includes a section on psychosis.\n",
        "\n",
        "## Data Cleaning\n",
        "\n",
        "After gathering our data, we did extensive cleaning that included removing missing data, renaming columns, and removing unnecessary columns. We also did some data manipulation to make the data easier to work with. For example, we converted character columns to factors.\n",
        "\n",
        "For our textual data, we extracted the data from its original JSON format and converted it to a data frame. We also did some text cleaning by using a `spaCy` pipeline to remove stop words and lemmatize the text. We also removed numbers and other characters that would not be useful in our analysis.\n",
        "\n",
        "## Data Exploration\n",
        "\n",
        "After cleaning our data, we explored it to better understand our data. We started by exploring our data from Wikipedia. We used the `tidytext` package to explore the most common words in the text. We also visualized the differences between Wikipedia entries mentioned cannabis, psychosis, neither, or both. We observed that the most common word across all four categories was \"drug\", indicating that our root page linked to other pages mentioning drug use. The second most common word was \"cannabis\", followed by \"effect\".\n",
        "\n",
        "Next, we explored our Reddit data. We again used the `tidytext` package to explore the most common words in the text. We also visualized the differences between Reddit posts on each of the three different subreddits. We observed that r/Psychosis tends to focus on feelings and experiences, r/schizophrenia tends to focus on symptoms and medication, and r/weed tends to focus on cannabis usage.\n",
        "\n",
        "We then proceeded to explore the data from Setién-Suero et al. We found that the data was evenly distributed between male and female participants. There was also an even split between individuals diagnosed with schizophrenia and those who were not. We found that individuals with a schizophrenia diagnosis tended to have a slightly earlier onset of psychosis. We also saw that individuals using cannabis have a much earlier age of psychosis onset within the dataset, showing a potential link between cannabis use and psychosis onset.\n"
      ]
    },
    {
      "cell_type": "markdown",
      "metadata": {},
      "source": [
        "## Naive Bayes\n",
        "\n",
        "After exploring our data, we proceeded to use a Naive Bayes model to predict whether a Reddit post was from r/weed, r/schizophrenia, or r/Psychosis. We also used a Naive Bayes model to predict whether an individual in the data from Setién-Suero et al. was using cannabis. \n",
        "\n",
        "### Record Data Naive Bayes\n",
        "\n",
        "In our Naive Bayes model designed to predict whether an individual was using cannabis based on their psychosis history, we found that the model was able to predict whether an individual was using cannabis with 65.71% accuracy. The F1 score was 0.6586. Our model had an ROC AUC score of 0.64.\n",
        "\n",
        "Overall, our model was better at predicting cannabis use than random chance based on psychosis history data. However, our model was not a very strong predictor of cannabis use. This may indicate that psychosis hsitory is not a strong predictor of whether a person has used cannabis. This does not necessarily contradict our hypothesis, since we are looking for evidence that a person's cannabis usage is a predictor of psychosis, not the other way around. However, it does show that the link between psychosis and cannabis usage may not be very strong. More importantly, it reminds us that psychosis is a complex condition impacted by a wide range of factors. No one factor can predict whether a person will experience psychosis.\n",
        "\n",
        "### Text Data Naive Bayes\n",
        "\n",
        "When using a Naive Bayes classifier to predict which subreddit a post belongs to, we found that our model was able to predict the correct subreddit with 76.85% accuracy. The F1 score was 0.7718. \n",
        "\n",
        "Generally, our model was able to predict the correct subreddit moderately well based on post contents. This indicates that our three subreddits had fairly good separability. Given the similarity of topics in these three subreddits, we were pleased with the performance of our model. Our results indicate that there is a difference in the language used in each of these subreddits."
      ]
    },
    {
      "cell_type": "markdown",
      "metadata": {},
      "source": [
        "## Clustering\n",
        "\n",
        "After developing two Naive Bayes models, we proceeded to use clustering to explore our data. Our goal was to see if any of the clusters aligned with cannabis usage and/or psychosis to find a potential link between the two.\n",
        "\n",
        "For clustering, we used the NSDUH data because of its high dimensionality. We used K-Means, DBSCAN, and Agglomerative clustering in order to cluster the data on cannabis usage. Our goal was to see if the clusters align with `smipppy`, a variable that indicates the Severe Mental Illness Predicted Probability in the Past Year (SMIPPPY). This variable is a measure of the probability that an individual has a severe mental illness, such as schizophrenia. While this is not a direct measure of psychosis, it is the closest proxy available in the data and will still provide some insight into the relationship between cannabis usage and severe mental illness.\n",
        "\n",
        "For K-means clustering and Agglomerative clustering, we found that there were 7 clusters. From DBSCAN, we used `eps` to tune the model and found the best fit was 18 clusters. Each of these models produced clusters with very high separability, indicating clear groups within the data. When visualizing these clusters compared to `smipppy`, we found that some clusters aligned with individuals who had not used cannabis. Other clusters indicated a higher probability of severe mental illness. However, the clusters did not generally align very closely with `smipppy`. This indicates that there is not a strong relationship between cannabis usage and severe mental illness in the NSDUH data that can be found through clustering.\n"
      ]
    },
    {
      "cell_type": "markdown",
      "metadata": {},
      "source": [
        "## Dimensionality Reduction\n",
        "\n",
        "Next, we aimed to reduce the dimensionality of our NSDUH data. Even after removing features with high correlation and missing data, we were left with 1700 features. Through dimensionality reduction, we aimed to reduce the number of features while still retaining the most important information.\n",
        "\n",
        "First, we used PCA to reduce the dimensionality of our data. We were able to explain 25% of the variance in our data with the first 150 principle components. While we lose a lot of the variance, the ability to explain a quarter of the variance with less than one tenth of the features is a good tradeoff. We were able to reduce the dimensionality of our data by 90% while still retaining a significant amount of information.\n",
        "\n",
        "Next, we used t-SNE to reduce the dimensionality of our data. First, we tried t-SNE with all 1700 of our features, but we found that the model did not capture the variance in our data. We then tried t-SNE with the first 50 principle components, since t-SNE works best with fifty or fewer components. We found that there was more separation in the final results, but the divergence was still relatively high at 1.5. This means that t-SNE was not very effective at capturing the overall distribution in its embeddings. Overall, we found that PCA was more effective at reducing the dimensionality of our data."
      ]
    },
    {
      "cell_type": "markdown",
      "metadata": {},
      "source": [
        "## Decision Tree\n",
        "\n",
        "### Regression Tree\n",
        "\n",
        "We then used a decision tree to predict the severe mental illness predicted probability in the past year (`smipppy`) based on cannabis usage data. We used both a standard decision tree and a random forest model to predict `smipppy` from cannabis usage survey data from NSDUH.\n",
        "\n",
        "We found that both the standard decision tree and the random forest were able to predict `smipppy` with an RMSE of 0.1221, meaning that on average, the severe mental illness predicted probability in the past year predictions were off by 0.1221. This was an interesting result because normally, we would expect a random forest model to perform better than a standard decision tree. Both our models performed better than random chance, but neither model was a very strong predictor of `smipppy`. This indicates that in the NSDUH survey data from 2021, there is not a strong relationship between cannabis usage and severe mental illness. This is an interesting result because it contradicts our hypothesis that there is a relationship between cannabis usage and psychosis. However, it is important to note that `smipppy` is not a direct measure of psychosis, and this may reflect that cannabis is not linked to other severe mental illnesses such as bipolar disorder and major depressive disorder.\n",
        "\n",
        "### Classification Tree\n",
        "\n",
        "With our classification tree, we aimed to predict which subreddit a post belonged to based on its text. Our goal was to build a comparison with our Naive Bayes model and gain more insight into the language used in each subreddit.\n",
        "\n",
        "We found that the baseline decision tree was able to predict the correct subreddit with 78.8% accuracy, and the random forest predicted the correct subreddit with 87.5% accuracy. Both of the models perform better than the Naive Bayes model. These classification models indicate that there is a difference in the language used across the r/weed, r/schizophrenia, and r/Psychosis subreddits.\n",
        "\n",
        "## Sentiment Analysis\n",
        "\n",
        "After discovering that there is a difference in language used across subreddits, our final goal was to assess the sentiment of the subreddit posts to see assess the public sentiment regarding cannabis usage and psychosis. \n",
        "\n",
        "We started by indicating whether a post mentioned cannabis, psychosis, both, or neither. Then we performed a sentiment analysis, using `sentence-transformers/nli-mpnet-base-v2` for the embeddings and `distilbert-base-uncased-finetuned-sst-2-english` for the sentiment analysis modeling. We found that overall, posts tended to be more negative than positive. We then used chi-squared tests to assess the difference in sentiments between different groups of posts. We found that posts mentioning just cannabis tended to be more negative than posts mentioning neither cannabis nor psychosis. This may indicate that cannabis usage often has negative effects on individuals or that cannabis users tend to be struggling or suffering in some way and use cannabis as a form of self-medication. We also found some evidence to suggest that posts mentioning psychosis were more positive than those mentioning cannabis or neither cannabis nor psychosis, likely because Reddit is a platform were individuals can be encouraged and supported by others during mental health struggles."
      ]
    },
    {
      "cell_type": "markdown",
      "metadata": {},
      "source": [
        "# Conclusions\n",
        "\n",
        "Through this semester-long project, we have found some evidence indicating a link between cannabis usage and psychosis. However, we did not find very strong evidence for this link, shown by the moderate predictive performance of our models aimed at predicting psychosis from cannabis usage.\n",
        "\n",
        "We also found that public sentiment regarding cannabis tends to be more negative. However, there were very few posts mentioning cannabis and psychosis. This likely points to a lack of awareness by the public of the link between cannabis usage and psychosis.\n",
        "\n",
        "Overall, we found some evidence to suggest a link between cannabis usage and psychosis, though it was not very strong. This finding is likely due to a lack of high-quality medical data rather than a lack of a link between cannabis usage and psychosis. Our initial literature review indicated that there has already been strong evidence to suggest a link between cannabis usage and psychosis (such that psychosis is listed as a [risk of marijuana use by the CDC)](https://www.cdc.gov/marijuana/health-effects/mental-health.html)), and research into the causality of this link is ongoing. However, the lack of high-quality, publicly available data makes it difficult to study this link.\n",
        "\n",
        "We found strong evidence to support the hypothesis that the public is not aware of the link between cannabis usage and psychosis. This finding is important because, as stated before, there is a real, evidence based link between cannabis usage and psychosis, with heavy users of marijuana experiencing an increased risk in developing psychosis. Our findings indicate that the general public is not aware of this risk, as noted in significant cannabis legalization efforts and public opinion of marijuana as a \"safe\" drug. This lack of awareness is concerning because it may lead to increased cannabis usage and increased psychosis rates.\n",
        "\n",
        "Our hope is that the public would gain more awareness of the fact that cannabis usage can have severe negative consequences. Psychosis is a serious mental condition that lead to challenges in differentiating between reality and the mind. It is difficult to treat, scary to experience and witness, and can lead to permanent brain damage. Falsehoods about the low risk of cannabis usage could lead to severe consequences for individuals who use cannabis thinking that it is safe. We hope that our research will help to spread awareness of risks of using cannabis and encourage individuals to make informed decisions about their cannabis usage."
      ]
    },
    {
      "cell_type": "markdown",
      "metadata": {},
      "source": []
    }
  ],
  "metadata": {
    "kernelspec": {
      "display_name": "Python 3 (ipykernel)",
      "language": "python",
      "name": "python3"
    }
  },
  "nbformat": 4,
  "nbformat_minor": 4
}
