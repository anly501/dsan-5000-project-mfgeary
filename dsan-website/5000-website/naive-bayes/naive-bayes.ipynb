{
 "cells": [
  {
   "cell_type": "markdown",
   "metadata": {},
   "source": [
    "---\n",
    "title: \"Naïve Bayes\"\n",
    "author: Marion Bauman\n",
    "format:\n",
    "    html:\n",
    "        embed-resources: true\n",
    "---"
   ]
  },
  {
   "cell_type": "markdown",
   "metadata": {},
   "source": [
    "## Introduction to Naïve Bayes\n",
    "\n",
    "In this next section of the project, I will be using the Naïve Bayes algorithm to classify both textual and numerical data. The Naïve Bayes method is an algorithm based on Bayes' Theorem, which states that:\n",
    "\n",
    "$$P(Y|X) = \\frac{P(X|Y)P(Y)}{P(X)}$$.\n",
    "\n",
    "From here we also know that \n",
    "\n",
    "$$P(Y|X) \\propto P(X|Y)P(Y)$$.\n",
    "\n",
    "Put differently, this mean that the probability of $Y$ given $X$ is proportional to the probability of $X$ given $Y$ times the probability of $Y$. \n",
    "\n",
    "Generally, machine learning algorithms aim to find $P(Y|X)$, that is, to predict $Y$ given all features $X$."
   ]
  },
  {
   "cell_type": "markdown",
   "metadata": {},
   "source": []
  }
 ],
 "metadata": {
  "language_info": {
   "name": "python"
  }
 },
 "nbformat": 4,
 "nbformat_minor": 2
}
